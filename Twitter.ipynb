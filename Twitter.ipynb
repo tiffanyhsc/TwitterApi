{
 "cells": [
  {
   "cell_type": "code",
   "execution_count": 3,
   "metadata": {
    "collapsed": true
   },
   "outputs": [],
   "source": [
    "import csv\n",
    "import twitter \n",
    "import json\n",
    "\n",
    "hashtags_to_track = [\n",
    "    \"MONSTA_X\",\n",
    "]\n",
    "api = twitter.Api(\n",
    "    consumer_key='3xkENtA7UR8iO0kTsvSgusrCH',\n",
    "    consumer_secret='GeGlhGqTGE1b3Fl0vl0yLZscidsVWJFbJv8b8XrnPsFWUmu0rW',\n",
    "    access_token_key='905844932929363969-YguEGf9OJMXz52gyC0jvSGBOz6YyS0X',\n",
    "    access_token_secret='Fy6KIzvO1ORZoeT4FbjfsMMDIkHukUZcI63Xsq1HpY8Ps')\n"
   ]
  },
  {
   "cell_type": "code",
   "execution_count": 4,
   "metadata": {},
   "outputs": [],
   "source": [
    "count = 0\n",
    "max_number = 5\n",
    "\n",
    "with open('tweet.txt', 'a') as f:\n",
    "    # api.GetStreamFilter will return a generator that yields one status\n",
    "    # message (i.e., Tweet) at a time as a JSON dictionary.\n",
    "    for line in api.GetStreamFilter(track=hashtags_to_track, languages=['en']):\n",
    "        f.write(json.dumps(line))\n",
    "        count += 5\n",
    "        if count == max_number:\n",
    "            break\n",
    "        f.write('\\n')\n"
   ]
  },
  {
   "cell_type": "code",
   "execution_count": 35,
   "metadata": {
    "collapsed": true
   },
   "outputs": [],
   "source": []
  },
  {
   "cell_type": "code",
   "execution_count": 36,
   "metadata": {
    "collapsed": true
   },
   "outputs": [],
   "source": []
  },
  {
   "cell_type": "code",
   "execution_count": null,
   "metadata": {
    "collapsed": true
   },
   "outputs": [],
   "source": []
  },
  {
   "cell_type": "code",
   "execution_count": null,
   "metadata": {
    "collapsed": true
   },
   "outputs": [],
   "source": []
  },
  {
   "cell_type": "code",
   "execution_count": null,
   "metadata": {
    "collapsed": true
   },
   "outputs": [],
   "source": []
  },
  {
   "cell_type": "code",
   "execution_count": 8,
   "metadata": {
    "collapsed": true
   },
   "outputs": [],
   "source": []
  },
  {
   "cell_type": "code",
   "execution_count": 3,
   "metadata": {},
   "outputs": [
    {
     "ename": "SyntaxError",
     "evalue": "Missing parentheses in call to 'print' (<ipython-input-3-e221b7e60ce6>, line 10)",
     "output_type": "error",
     "traceback": [
      "\u001b[1;36m  File \u001b[1;32m\"<ipython-input-3-e221b7e60ce6>\"\u001b[1;36m, line \u001b[1;32m10\u001b[0m\n\u001b[1;33m    print result.text\u001b[0m\n\u001b[1;37m               ^\u001b[0m\n\u001b[1;31mSyntaxError\u001b[0m\u001b[1;31m:\u001b[0m Missing parentheses in call to 'print'\n"
     ]
    }
   ],
   "source": []
  },
  {
   "cell_type": "code",
   "execution_count": null,
   "metadata": {
    "collapsed": true
   },
   "outputs": [],
   "source": []
  }
 ],
 "metadata": {
  "kernelspec": {
   "display_name": "Python 3",
   "language": "python",
   "name": "python3"
  },
  "language_info": {
   "codemirror_mode": {
    "name": "ipython",
    "version": 3
   },
   "file_extension": ".py",
   "mimetype": "text/x-python",
   "name": "python",
   "nbconvert_exporter": "python",
   "pygments_lexer": "ipython3",
   "version": "3.6.1"
  }
 },
 "nbformat": 4,
 "nbformat_minor": 2
}
